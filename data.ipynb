{
 "cells": [
  {
   "cell_type": "markdown",
   "metadata": {},
   "source": [
    "## Module imports"
   ]
  },
  {
   "cell_type": "code",
   "execution_count": null,
   "metadata": {},
   "outputs": [],
   "source": [
    "import geopandas as gpd\n",
    "import numpy as np\n",
    "import sklearn\n",
    "gpd.options.io_engine = \"pyogrio\"\n",
    "%matplotlib inline"
   ]
  },
  {
   "cell_type": "markdown",
   "metadata": {},
   "source": [
    "### Import data"
   ]
  },
  {
   "cell_type": "code",
   "execution_count": null,
   "metadata": {},
   "outputs": [],
   "source": [
    "train_df = gpd.read_file(\"./data/train.geojson\", index_col=0);"
   ]
  },
  {
   "cell_type": "markdown",
   "metadata": {},
   "source": [
    "## <center> <font color='#0590C0'> Geo data processing <font> <center>"
   ]
  },
  {
   "cell_type": "code",
   "execution_count": null,
   "metadata": {},
   "outputs": [],
   "source": [
    "# Tool to compute main angle of a polygon in degree\n",
    "\n",
    "from shapely import LineString\n",
    "\n",
    "def segments(curve):\n",
    "    return list(map(LineString, zip(curve.coords[:-1], curve.coords[1:])))\n",
    "\n",
    "def main_angle(polygon) :\n",
    "    curve = polygon.boundary\n",
    "    seg = segments(curve)\n",
    "    max_length = 0\n",
    "    angle = 0\n",
    "    for s in seg :\n",
    "        coords = s.coords.xy\n",
    "        real = coords[0][1] - coords[0][0]\n",
    "        img = coords[1][1] - coords[1][0]\n",
    "        z = real + img*1j\n",
    "        l = np.sqrt(real**2 + img**2)\n",
    "        if l > max_length :\n",
    "            max_length = l\n",
    "            angle = np.angle(z, deg = True)\n",
    "    return angle % 180"
   ]
  },
  {
   "cell_type": "code",
   "execution_count": null,
   "metadata": {},
   "outputs": [],
   "source": [
    "geo = train_df[\"geometry\"];\n",
    "array = np.asarray(geo)\n",
    "\n",
    "# Compute bounds and main angle (5 features)\n",
    "m = list(map(lambda x : list(x.bounds) + [main_angle(x)], array))\n",
    "geo_data = np.array(m)"
   ]
  },
  {
   "cell_type": "code",
   "execution_count": null,
   "metadata": {},
   "outputs": [],
   "source": [
    "# Init a PCA\n",
    "from sklearn.decomposition import PCA\n",
    "\n",
    "# Keep 80% of variance\n",
    "pca = PCA(0.8)\n",
    "pca.fit(geo_data)\n",
    "\n",
    "reduced_geo_data = pca.transform(geo_data)\n",
    "reduced_geo_data.shape"
   ]
  },
  {
   "cell_type": "markdown",
   "metadata": {},
   "source": [
    "## <center> <font color='#0590C0'> Color data processing <font> <center>"
   ]
  },
  {
   "cell_type": "code",
   "execution_count": null,
   "metadata": {},
   "outputs": [],
   "source": [
    "# Selects every column starting with \"img\"\n",
    "# We could have separated std deviation and mean ?\n",
    "cols = [col for col in train_df if col.startswith(\"img\")]\n",
    "\n",
    "# Build an array from the data\n",
    "color = np.asarray(train_df[cols])\n",
    "print(color)\n",
    "# Delete NaN values\n",
    "finite_color = color[np.isfinite(color).all(1)]\n",
    "\n",
    "# Init a PCA\n",
    "from sklearn.decomposition import PCA\n",
    "\n",
    "# Keep 80% of variance\n",
    "pca = PCA(0.8)\n",
    "pca.fit(finite_color)\n",
    "\n",
    "# Apply transform\n",
    "reduced_color = pca.transform(finite_color)\n",
    "reduced_color.shape"
   ]
  }
 ],
 "metadata": {
  "kernelspec": {
   "display_name": ".env",
   "language": "python",
   "name": "python3"
  },
  "language_info": {
   "codemirror_mode": {
    "name": "ipython",
    "version": 3
   },
   "file_extension": ".py",
   "mimetype": "text/x-python",
   "name": "python",
   "nbconvert_exporter": "python",
   "pygments_lexer": "ipython3",
   "version": "3.11.7"
  }
 },
 "nbformat": 4,
 "nbformat_minor": 2
}
